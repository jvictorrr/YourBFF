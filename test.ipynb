from csv import excel
from bs4 import BeautifulSoup
import pandas as pd
import requests

html = requests.get("http://cnes2.datasus.gov.br/Exibe_Ficha_Estabelecimento.asp?VCo_Unidade=2504002363240&VListar=1&VEstado=25&VMun=250400").content

df = pd.read_html(html)
df.to_clipboard()
