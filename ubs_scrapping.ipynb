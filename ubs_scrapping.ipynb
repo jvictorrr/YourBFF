{
 "cells": [
  {
   "cell_type": "code",
   "execution_count": 2,
   "metadata": {},
   "outputs": [],
   "source": [
    "from csv import excel\n",
    "from bs4 import BeautifulSoup\n",
    "import pandas as pd\n",
    "import requests\n",
    "\n",
    "codigo_ubs :str\n",
    "\n",
    "\n",
    "\n",
    "# url  = \"http://cnes2.datasus.gov.br/Exibe_Ficha_Estabelecimento.asp?VCo_Unidade=250400\" + codigo_ubs + \"&VListar=1&VEstado=25&VMun=250400\"\n",
    "# html = requests.get(\"http://cnes2.datasus.gov.br/Exibe_Ficha_Estabelecimento.asp?VCo_Unidade=2504002363240&VListar=1&VEstado=25&VMun=250400\").content\n",
    "# df = pd.read_html(html)\n",
    "# localte = dict()"
   ]
  },
  {
   "cell_type": "code",
   "execution_count": 3,
   "metadata": {},
   "outputs": [],
   "source": [
    "ubs =  pd.read_excel(r'relação_ubs.xlsx')"
   ]
  },
  {
   "cell_type": "code",
   "execution_count": 4,
   "metadata": {},
   "outputs": [
    {
     "data": {
      "text/html": [
       "<div>\n",
       "<style scoped>\n",
       "    .dataframe tbody tr th:only-of-type {\n",
       "        vertical-align: middle;\n",
       "    }\n",
       "\n",
       "    .dataframe tbody tr th {\n",
       "        vertical-align: top;\n",
       "    }\n",
       "\n",
       "    .dataframe thead th {\n",
       "        text-align: right;\n",
       "    }\n",
       "</style>\n",
       "<table border=\"1\" class=\"dataframe\">\n",
       "  <thead>\n",
       "    <tr style=\"text-align: right;\">\n",
       "      <th></th>\n",
       "      <th>CNES</th>\n",
       "      <th>Estabelecimento</th>\n",
       "      <th>CNPJ</th>\n",
       "      <th>CNPJ Mantenedora</th>\n",
       "    </tr>\n",
       "  </thead>\n",
       "  <tbody>\n",
       "    <tr>\n",
       "      <th>0</th>\n",
       "      <td>2363240</td>\n",
       "      <td>AMBULATORIO DO II BPM</td>\n",
       "      <td>NaN</td>\n",
       "      <td>8778268000160</td>\n",
       "    </tr>\n",
       "    <tr>\n",
       "      <th>1</th>\n",
       "      <td>2362198</td>\n",
       "      <td>CENTRO DE SAUDE DA BELA VISTA</td>\n",
       "      <td>NaN</td>\n",
       "      <td>8993917000146</td>\n",
       "    </tr>\n",
       "    <tr>\n",
       "      <th>2</th>\n",
       "      <td>2362244</td>\n",
       "      <td>CENTRO DE SAUDE DA LIBERDADE</td>\n",
       "      <td>NaN</td>\n",
       "      <td>8993917000146</td>\n",
       "    </tr>\n",
       "    <tr>\n",
       "      <th>3</th>\n",
       "      <td>2362236</td>\n",
       "      <td>CENTRO DE SAUDE DA PALMEIRA</td>\n",
       "      <td>NaN</td>\n",
       "      <td>8993917000146</td>\n",
       "    </tr>\n",
       "    <tr>\n",
       "      <th>4</th>\n",
       "      <td>2362252</td>\n",
       "      <td>CENTRO DE SAUDE FRANCISCO PINTO</td>\n",
       "      <td>NaN</td>\n",
       "      <td>8993917000146</td>\n",
       "    </tr>\n",
       "    <tr>\n",
       "      <th>...</th>\n",
       "      <td>...</td>\n",
       "      <td>...</td>\n",
       "      <td>...</td>\n",
       "      <td>...</td>\n",
       "    </tr>\n",
       "    <tr>\n",
       "      <th>89</th>\n",
       "      <td>2792877</td>\n",
       "      <td>UBS VELAME</td>\n",
       "      <td>NaN</td>\n",
       "      <td>8993917000146</td>\n",
       "    </tr>\n",
       "    <tr>\n",
       "      <th>90</th>\n",
       "      <td>2595478</td>\n",
       "      <td>UBS WESLEY CARIRY TARGINO</td>\n",
       "      <td>NaN</td>\n",
       "      <td>8993917000146</td>\n",
       "    </tr>\n",
       "    <tr>\n",
       "      <th>91</th>\n",
       "      <td>2362627</td>\n",
       "      <td>UBS WILSON FURTADO</td>\n",
       "      <td>NaN</td>\n",
       "      <td>8993917000146</td>\n",
       "    </tr>\n",
       "    <tr>\n",
       "      <th>92</th>\n",
       "      <td>2975637</td>\n",
       "      <td>UBS WILSON FURTADO II ITARARE</td>\n",
       "      <td>NaN</td>\n",
       "      <td>8993917000146</td>\n",
       "    </tr>\n",
       "    <tr>\n",
       "      <th>93</th>\n",
       "      <td>2363267</td>\n",
       "      <td>UNIDADE PRISIONAL DE CAMPINA GRANDE</td>\n",
       "      <td>NaN</td>\n",
       "      <td>8993917000146</td>\n",
       "    </tr>\n",
       "  </tbody>\n",
       "</table>\n",
       "<p>94 rows × 4 columns</p>\n",
       "</div>"
      ],
      "text/plain": [
       "       CNES                      Estabelecimento  CNPJ  CNPJ Mantenedora\n",
       "0   2363240                AMBULATORIO DO II BPM   NaN     8778268000160\n",
       "1   2362198        CENTRO DE SAUDE DA BELA VISTA   NaN     8993917000146\n",
       "2   2362244         CENTRO DE SAUDE DA LIBERDADE   NaN     8993917000146\n",
       "3   2362236          CENTRO DE SAUDE DA PALMEIRA   NaN     8993917000146\n",
       "4   2362252      CENTRO DE SAUDE FRANCISCO PINTO   NaN     8993917000146\n",
       "..      ...                                  ...   ...               ...\n",
       "89  2792877                           UBS VELAME   NaN     8993917000146\n",
       "90  2595478            UBS WESLEY CARIRY TARGINO   NaN     8993917000146\n",
       "91  2362627                   UBS WILSON FURTADO   NaN     8993917000146\n",
       "92  2975637        UBS WILSON FURTADO II ITARARE   NaN     8993917000146\n",
       "93  2363267  UNIDADE PRISIONAL DE CAMPINA GRANDE   NaN     8993917000146\n",
       "\n",
       "[94 rows x 4 columns]"
      ]
     },
     "execution_count": 4,
     "metadata": {},
     "output_type": "execute_result"
    }
   ],
   "source": [
    "ubs"
   ]
  },
  {
   "cell_type": "code",
   "execution_count": 6,
   "metadata": {},
   "outputs": [
    {
     "data": {
      "text/plain": [
       "173.0"
      ]
     },
     "execution_count": 6,
     "metadata": {},
     "output_type": "execute_result"
    }
   ],
   "source": []
  },
  {
   "cell_type": "code",
   "execution_count": 9,
   "metadata": {},
   "outputs": [],
   "source": [
    "locate = dict()\n",
    "Municipio = 250010\n",
    "\n",
    "for i,row in ubs.iterrows():\n",
    "    # print(row['CNES'])\n",
    "    # print(i)\n",
    "    # try:\n",
    "    url  = \"http://cnes2.datasus.gov.br/Exibe_Ficha_Estabelecimento.asp?VCo_Unidade=250400\" + str(row['CNES']) + \"&VListar=1&VEstado=25&VMun=250400\"\n",
    "    html = requests.get(url).content\n",
    "    df = pd.read_html(html)\n",
    "    try:\n",
    "        endereço = df[2].iloc[6:8]\n",
    "        endereço.columns = endereço.iloc[0]\n",
    "        endereço = endereço.iloc[1] \n",
    "        locate.__setitem__(row['Estabelecimento'],endereço)\n",
    "    except:\n",
    "            pass\n",
    "\n",
    "    # except:\n",
    "    #     pass\n",
    "    "
   ]
  },
  {
   "cell_type": "code",
   "execution_count": 11,
   "metadata": {},
   "outputs": [
    {
     "data": {
      "text/plain": [
       "6\n",
       "Complemento:                               NaN\n",
       "Bairro:                             BELA VISTA\n",
       "CEP:                                  58428850\n",
       "Município:      CAMPINA GRANDE - IBGE - 250400\n",
       "UF:                                         PB\n",
       "NaN                                        NaN\n",
       "Name: 7, dtype: object"
      ]
     },
     "execution_count": 11,
     "metadata": {},
     "output_type": "execute_result"
    }
   ],
   "source": [
    "locate['CENTRO DE SAUDE DA BELA VISTA']"
   ]
  },
  {
   "cell_type": "code",
   "execution_count": 85,
   "metadata": {},
   "outputs": [],
   "source": [
    "\n"
   ]
  }
 ],
 "metadata": {
  "kernelspec": {
   "display_name": "Python 3.9.11 64-bit (system)",
   "language": "python",
   "name": "python3"
  },
  "language_info": {
   "codemirror_mode": {
    "name": "ipython",
    "version": 3
   },
   "file_extension": ".py",
   "mimetype": "text/x-python",
   "name": "python",
   "nbconvert_exporter": "python",
   "pygments_lexer": "ipython3",
   "version": "3.9.11"
  },
  "orig_nbformat": 4,
  "vscode": {
   "interpreter": {
    "hash": "752a47998dec541a1213294a11f345f3e0c443a2e09f1ed460eb0988e5bb69e2"
   }
  }
 },
 "nbformat": 4,
 "nbformat_minor": 2
}
