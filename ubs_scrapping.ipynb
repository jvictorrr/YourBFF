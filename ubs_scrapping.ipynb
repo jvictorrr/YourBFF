{
 "cells": [
  {
   "cell_type": "code",
   "execution_count": 1,
   "metadata": {},
   "outputs": [],
   "source": [
    "from csv import excel\n",
    "from bs4 import BeautifulSoup\n",
    "import pandas as pd\n",
    "import requests\n",
    "\n",
    "codigo_ubs :str\n",
    "\n",
    "\n",
    "\n",
    "# url  = \"http://cnes2.datasus.gov.br/Exibe_Ficha_Estabelecimento.asp?VCo_Unidade=250400\" + codigo_ubs + \"&VListar=1&VEstado=25&VMun=250400\"\n",
    "# html = requests.get(\"http://cnes2.datasus.gov.br/Exibe_Ficha_Estabelecimento.asp?VCo_Unidade=2504002363240&VListar=1&VEstado=25&VMun=250400\").content\n",
    "# df = pd.read_html(html)\n",
    "# localte = dict()"
   ]
  },
  {
   "cell_type": "code",
   "execution_count": 16,
   "metadata": {},
   "outputs": [
    {
     "data": {
      "text/plain": [
       "'AMBULATORIO DO II BPM'"
      ]
     },
     "execution_count": 16,
     "metadata": {},
     "output_type": "execute_result"
    }
   ],
   "source": [
    "nome = df[2].iloc[1,2]"
   ]
  },
  {
   "cell_type": "code",
   "execution_count": 40,
   "metadata": {},
   "outputs": [
    {
     "data": {
      "text/plain": [
       "6\n",
       "Complemento:                               NaN\n",
       "Bairro:                               SAO JOSE\n",
       "CEP:                                  58400414\n",
       "Município:      CAMPINA GRANDE - IBGE - 250400\n",
       "UF:                                         PB\n",
       "NaN                                        NaN\n",
       "Name: 7, dtype: object"
      ]
     },
     "execution_count": 40,
     "metadata": {},
     "output_type": "execute_result"
    }
   ],
   "source": [
    "endereço = df[2].iloc[6:8]\n",
    "endereço.columns = endereço.iloc[0]\n",
    "endereço = endereço.iloc[1] \n",
    "endereço\n"
   ]
  },
  {
   "cell_type": "code",
   "execution_count": 2,
   "metadata": {},
   "outputs": [],
   "source": [
    "ubs =  pd.read_excel(r'relação_ubs.xlsx')"
   ]
  },
  {
   "cell_type": "code",
   "execution_count": 3,
   "metadata": {},
   "outputs": [
    {
     "data": {
      "text/html": [
       "<div>\n",
       "<style scoped>\n",
       "    .dataframe tbody tr th:only-of-type {\n",
       "        vertical-align: middle;\n",
       "    }\n",
       "\n",
       "    .dataframe tbody tr th {\n",
       "        vertical-align: top;\n",
       "    }\n",
       "\n",
       "    .dataframe thead th {\n",
       "        text-align: right;\n",
       "    }\n",
       "</style>\n",
       "<table border=\"1\" class=\"dataframe\">\n",
       "  <thead>\n",
       "    <tr style=\"text-align: right;\">\n",
       "      <th></th>\n",
       "      <th>CNES</th>\n",
       "      <th>Estabelecimento</th>\n",
       "      <th>Município</th>\n",
       "      <th>CNPJ</th>\n",
       "      <th>CNPJ Mantenedora</th>\n",
       "    </tr>\n",
       "  </thead>\n",
       "  <tbody>\n",
       "    <tr>\n",
       "      <th>0</th>\n",
       "      <td>7730802</td>\n",
       "      <td>AFRAFEP SAUDE SAMD</td>\n",
       "      <td>JOAO PESSOA</td>\n",
       "      <td>9.306242e+12</td>\n",
       "      <td>NaN</td>\n",
       "    </tr>\n",
       "    <tr>\n",
       "      <th>1</th>\n",
       "      <td>2606186</td>\n",
       "      <td>ALDERI GOMES FERNANDES USF III</td>\n",
       "      <td>BREJO DO CRUZ</td>\n",
       "      <td>NaN</td>\n",
       "      <td>8.767154e+12</td>\n",
       "    </tr>\n",
       "    <tr>\n",
       "      <th>2</th>\n",
       "      <td>2363240</td>\n",
       "      <td>AMBULATORIO DO II BPM</td>\n",
       "      <td>CAMPINA GRANDE</td>\n",
       "      <td>NaN</td>\n",
       "      <td>8.778268e+12</td>\n",
       "    </tr>\n",
       "    <tr>\n",
       "      <th>3</th>\n",
       "      <td>9911650</td>\n",
       "      <td>AMBULATORIO DO PRESIDIO REGIONAL DE ITABAIANA</td>\n",
       "      <td>ITABAIANA</td>\n",
       "      <td>NaN</td>\n",
       "      <td>9.072430e+12</td>\n",
       "    </tr>\n",
       "    <tr>\n",
       "      <th>4</th>\n",
       "      <td>9164405</td>\n",
       "      <td>AMBULATORIO MEDICO TRONOX PIGMENTO</td>\n",
       "      <td>MATARACA</td>\n",
       "      <td>1.511550e+13</td>\n",
       "      <td>NaN</td>\n",
       "    </tr>\n",
       "    <tr>\n",
       "      <th>...</th>\n",
       "      <td>...</td>\n",
       "      <td>...</td>\n",
       "      <td>...</td>\n",
       "      <td>...</td>\n",
       "      <td>...</td>\n",
       "    </tr>\n",
       "    <tr>\n",
       "      <th>1464</th>\n",
       "      <td>2363496</td>\n",
       "      <td>USF01 DINA EMILIA DE CARVALHO</td>\n",
       "      <td>SAO JOAO DO TIGRE</td>\n",
       "      <td>NaN</td>\n",
       "      <td>9.074592e+12</td>\n",
       "    </tr>\n",
       "    <tr>\n",
       "      <th>1465</th>\n",
       "      <td>2612933</td>\n",
       "      <td>USF02 CACIMBINHA</td>\n",
       "      <td>SAO JOAO DO TIGRE</td>\n",
       "      <td>NaN</td>\n",
       "      <td>9.074592e+12</td>\n",
       "    </tr>\n",
       "    <tr>\n",
       "      <th>1466</th>\n",
       "      <td>9469176</td>\n",
       "      <td>VIGILANCIA EM SAUDE</td>\n",
       "      <td>SOUSA</td>\n",
       "      <td>NaN</td>\n",
       "      <td>8.999674e+12</td>\n",
       "    </tr>\n",
       "    <tr>\n",
       "      <th>1467</th>\n",
       "      <td>6158420</td>\n",
       "      <td>VIGILANCIA SANITARIA</td>\n",
       "      <td>CATOLE DO ROCHA</td>\n",
       "      <td>NaN</td>\n",
       "      <td>9.067562e+12</td>\n",
       "    </tr>\n",
       "    <tr>\n",
       "      <th>1468</th>\n",
       "      <td>TOTAL</td>\n",
       "      <td>1468</td>\n",
       "      <td>NaN</td>\n",
       "      <td>NaN</td>\n",
       "      <td>NaN</td>\n",
       "    </tr>\n",
       "  </tbody>\n",
       "</table>\n",
       "<p>1469 rows × 5 columns</p>\n",
       "</div>"
      ],
      "text/plain": [
       "         CNES                                Estabelecimento  \\\n",
       "0     7730802                             AFRAFEP SAUDE SAMD   \n",
       "1     2606186                 ALDERI GOMES FERNANDES USF III   \n",
       "2     2363240                          AMBULATORIO DO II BPM   \n",
       "3     9911650  AMBULATORIO DO PRESIDIO REGIONAL DE ITABAIANA   \n",
       "4     9164405             AMBULATORIO MEDICO TRONOX PIGMENTO   \n",
       "...       ...                                            ...   \n",
       "1464  2363496                  USF01 DINA EMILIA DE CARVALHO   \n",
       "1465  2612933                               USF02 CACIMBINHA   \n",
       "1466  9469176                            VIGILANCIA EM SAUDE   \n",
       "1467  6158420                           VIGILANCIA SANITARIA   \n",
       "1468    TOTAL                                           1468   \n",
       "\n",
       "              Município          CNPJ  CNPJ Mantenedora  \n",
       "0           JOAO PESSOA  9.306242e+12               NaN  \n",
       "1         BREJO DO CRUZ           NaN      8.767154e+12  \n",
       "2        CAMPINA GRANDE           NaN      8.778268e+12  \n",
       "3             ITABAIANA           NaN      9.072430e+12  \n",
       "4              MATARACA  1.511550e+13               NaN  \n",
       "...                 ...           ...               ...  \n",
       "1464  SAO JOAO DO TIGRE           NaN      9.074592e+12  \n",
       "1465  SAO JOAO DO TIGRE           NaN      9.074592e+12  \n",
       "1466              SOUSA           NaN      8.999674e+12  \n",
       "1467    CATOLE DO ROCHA           NaN      9.067562e+12  \n",
       "1468                NaN           NaN               NaN  \n",
       "\n",
       "[1469 rows x 5 columns]"
      ]
     },
     "execution_count": 3,
     "metadata": {},
     "output_type": "execute_result"
    }
   ],
   "source": [
    "ubs"
   ]
  },
  {
   "cell_type": "code",
   "execution_count": 4,
   "metadata": {},
   "outputs": [
    {
     "data": {
      "text/plain": [
       "173.0"
      ]
     },
     "execution_count": 4,
     "metadata": {},
     "output_type": "execute_result"
    }
   ],
   "source": [
    "(251740 - 250010)/10"
   ]
  },
  {
   "cell_type": "code",
   "execution_count": 5,
   "metadata": {},
   "outputs": [],
   "source": [
    "locate = dict()\n",
    "Municipio = 250010\n",
    "for m in range(int((251740-Municipio)/10)):\n",
    "    for i,row in ubs.iterrows():\n",
    "        # print(row['CNES'])\n",
    "        try:\n",
    "            url  = \"http://cnes2.datasus.gov.br/Exibe_Ficha_Estabelecimento.asp?VCo_Unidade=\"+ str(Municipio) + str(row['CNES']) + \"&VListar=1&VEstado=25&VMun=\" + str(Municipio)\n",
    "            html = requests.get(url).content\n",
    "            df = pd.read_html(html)\n",
    "        except:\n",
    "            Municipio= Municipio+10\n",
    "            url  = \"http://cnes2.datasus.gov.br/Exibe_Ficha_Estabelecimento.asp?VCo_Unidade=\"+ str(Municipio) + str(row['CNES']) + \"&VListar=1&VEstado=25&VMun=\" + str(Municipio)\n",
    "            html = requests.get(url).content\n",
    "            df = pd.read_html(html)\n",
    "        try:\n",
    "            endereço = df[2].iloc[6:8]\n",
    "            endereço.columns = endereço.iloc[0]\n",
    "            endereço = endereço.iloc[1] \n",
    "            locate.__setitem__(row['Estabelecimento'],endereço)\n",
    "        except:\n",
    "            pass\n",
    "    Municipio= Municipio+10\n",
    "\n",
    "    "
   ]
  },
  {
   "cell_type": "code",
   "execution_count": 104,
   "metadata": {},
   "outputs": [
    {
     "ename": "KeyError",
     "evalue": "'ESF I ALTO DO CRUZEIRO'",
     "output_type": "error",
     "traceback": [
      "\u001b[1;31m---------------------------------------------------------------------------\u001b[0m",
      "\u001b[1;31mKeyError\u001b[0m                                  Traceback (most recent call last)",
      "\u001b[1;32mc:\\Users\\jvict\\Downloads\\streamlit-sales-dashboard-with-userauthentication-master\\streamlit-sales-dashboard-with-userauthentication-master\\Untitled-1.ipynb Célula: 7\u001b[0m in \u001b[0;36m<cell line: 1>\u001b[1;34m()\u001b[0m\n\u001b[1;32m----> <a href='vscode-notebook-cell:/c%3A/Users/jvict/Downloads/streamlit-sales-dashboard-with-userauthentication-master/streamlit-sales-dashboard-with-userauthentication-master/Untitled-1.ipynb#W5sZmlsZQ%3D%3D?line=0'>1</a>\u001b[0m locate[\u001b[39m'\u001b[39;49m\u001b[39mESF I ALTO DO CRUZEIRO\u001b[39;49m\u001b[39m'\u001b[39;49m]\n",
      "\u001b[1;31mKeyError\u001b[0m: 'ESF I ALTO DO CRUZEIRO'"
     ]
    }
   ],
   "source": [
    "locate['ESF I ALTO DO CRUZEIRO']"
   ]
  },
  {
   "cell_type": "code",
   "execution_count": 85,
   "metadata": {},
   "outputs": [],
   "source": [
    "from urllib.request import urlopen\n",
    "import json\n",
    "\n",
    "with urlopen('https://raw.githubusercontent.com/highcharts/map-collection-dist/master/countries/br/br-all.topo.json') as response:\n",
    "    counties = json.load(response)\n",
    "\n",
    "import pandas as pd\n",
    "df = pd.read_csv(\"https://raw.githubusercontent.com/plotly/datasets/master/fips-unemp-16.csv\",\n",
    "                   dtype={\"fips\": str})\n",
    "\n",
    "import plotly.express as px\n",
    "\n"
   ]
  },
  {
   "cell_type": "code",
   "execution_count": 67,
   "metadata": {},
   "outputs": [],
   "source": [
    "df = pd.DataFrame(columns=['fips','unemp'])"
   ]
  },
  {
   "cell_type": "code",
   "execution_count": 102,
   "metadata": {},
   "outputs": [
    {
     "data": {
      "text/plain": [
       "{'type': 'MultiPolygon',\n",
       " 'arcs': [[[0]], [[1, 2, 3, 4, 5]]],\n",
       " 'id': 'BR.SP',\n",
       " 'properties': {'hc-group': 'admin1',\n",
       "  'hc-middle-x': 0.43,\n",
       "  'hc-middle-y': 0.34,\n",
       "  'hc-key': 'br-sp',\n",
       "  'hc-a2': 'SP',\n",
       "  'labelrank': '2',\n",
       "  'hasc': 'BR.SP',\n",
       "  'alt-name': None,\n",
       "  'woe-id': '2344868',\n",
       "  'subregion': None,\n",
       "  'fips': 'BR32',\n",
       "  'postal-code': 'SP',\n",
       "  'name': 'São Paulo',\n",
       "  'country': 'Brazil',\n",
       "  'type-en': 'State',\n",
       "  'region': None,\n",
       "  'longitude': '-48.5206',\n",
       "  'woe-name': 'São Paulo',\n",
       "  'latitude': '-22.2267',\n",
       "  'woe-label': 'Sao Paulo, BR, Brazil',\n",
       "  'type': 'Estado'}}"
      ]
     },
     "execution_count": 102,
     "metadata": {},
     "output_type": "execute_result"
    }
   ],
   "source": [
    "counties['objects']['default']['geometries'][0]"
   ]
  },
  {
   "cell_type": "code",
   "execution_count": 75,
   "metadata": {},
   "outputs": [],
   "source": [
    "for i in range(len(counties['features'])):\n",
    "    df.loc[i,'fips'] = counties['features'][i]['properties']['id']\n",
    "    df.loc[i,'unemp'] =i+1"
   ]
  },
  {
   "cell_type": "code",
   "execution_count": 76,
   "metadata": {},
   "outputs": [
    {
     "data": {
      "text/html": [
       "<div>\n",
       "<style scoped>\n",
       "    .dataframe tbody tr th:only-of-type {\n",
       "        vertical-align: middle;\n",
       "    }\n",
       "\n",
       "    .dataframe tbody tr th {\n",
       "        vertical-align: top;\n",
       "    }\n",
       "\n",
       "    .dataframe thead th {\n",
       "        text-align: right;\n",
       "    }\n",
       "</style>\n",
       "<table border=\"1\" class=\"dataframe\">\n",
       "  <thead>\n",
       "    <tr style=\"text-align: right;\">\n",
       "      <th></th>\n",
       "      <th>fips</th>\n",
       "      <th>unemp</th>\n",
       "    </tr>\n",
       "  </thead>\n",
       "  <tbody>\n",
       "    <tr>\n",
       "      <th>0</th>\n",
       "      <td>1</td>\n",
       "      <td>1</td>\n",
       "    </tr>\n",
       "    <tr>\n",
       "      <th>1</th>\n",
       "      <td>2</td>\n",
       "      <td>2</td>\n",
       "    </tr>\n",
       "    <tr>\n",
       "      <th>2</th>\n",
       "      <td>3</td>\n",
       "      <td>3</td>\n",
       "    </tr>\n",
       "    <tr>\n",
       "      <th>3</th>\n",
       "      <td>4</td>\n",
       "      <td>4</td>\n",
       "    </tr>\n",
       "    <tr>\n",
       "      <th>4</th>\n",
       "      <td>5</td>\n",
       "      <td>5</td>\n",
       "    </tr>\n",
       "    <tr>\n",
       "      <th>5</th>\n",
       "      <td>6</td>\n",
       "      <td>6</td>\n",
       "    </tr>\n",
       "    <tr>\n",
       "      <th>6</th>\n",
       "      <td>8</td>\n",
       "      <td>7</td>\n",
       "    </tr>\n",
       "    <tr>\n",
       "      <th>7</th>\n",
       "      <td>9</td>\n",
       "      <td>8</td>\n",
       "    </tr>\n",
       "    <tr>\n",
       "      <th>8</th>\n",
       "      <td>10</td>\n",
       "      <td>9</td>\n",
       "    </tr>\n",
       "    <tr>\n",
       "      <th>9</th>\n",
       "      <td>11</td>\n",
       "      <td>10</td>\n",
       "    </tr>\n",
       "    <tr>\n",
       "      <th>10</th>\n",
       "      <td>12</td>\n",
       "      <td>11</td>\n",
       "    </tr>\n",
       "    <tr>\n",
       "      <th>11</th>\n",
       "      <td>13</td>\n",
       "      <td>12</td>\n",
       "    </tr>\n",
       "    <tr>\n",
       "      <th>12</th>\n",
       "      <td>14</td>\n",
       "      <td>13</td>\n",
       "    </tr>\n",
       "    <tr>\n",
       "      <th>13</th>\n",
       "      <td>15</td>\n",
       "      <td>14</td>\n",
       "    </tr>\n",
       "    <tr>\n",
       "      <th>14</th>\n",
       "      <td>16</td>\n",
       "      <td>15</td>\n",
       "    </tr>\n",
       "    <tr>\n",
       "      <th>15</th>\n",
       "      <td>17</td>\n",
       "      <td>16</td>\n",
       "    </tr>\n",
       "    <tr>\n",
       "      <th>16</th>\n",
       "      <td>18</td>\n",
       "      <td>17</td>\n",
       "    </tr>\n",
       "    <tr>\n",
       "      <th>17</th>\n",
       "      <td>19</td>\n",
       "      <td>18</td>\n",
       "    </tr>\n",
       "    <tr>\n",
       "      <th>18</th>\n",
       "      <td>20</td>\n",
       "      <td>19</td>\n",
       "    </tr>\n",
       "    <tr>\n",
       "      <th>19</th>\n",
       "      <td>21</td>\n",
       "      <td>20</td>\n",
       "    </tr>\n",
       "    <tr>\n",
       "      <th>20</th>\n",
       "      <td>22</td>\n",
       "      <td>21</td>\n",
       "    </tr>\n",
       "    <tr>\n",
       "      <th>21</th>\n",
       "      <td>23</td>\n",
       "      <td>22</td>\n",
       "    </tr>\n",
       "    <tr>\n",
       "      <th>22</th>\n",
       "      <td>24</td>\n",
       "      <td>23</td>\n",
       "    </tr>\n",
       "    <tr>\n",
       "      <th>23</th>\n",
       "      <td>25</td>\n",
       "      <td>24</td>\n",
       "    </tr>\n",
       "    <tr>\n",
       "      <th>24</th>\n",
       "      <td>26</td>\n",
       "      <td>25</td>\n",
       "    </tr>\n",
       "    <tr>\n",
       "      <th>25</th>\n",
       "      <td>27</td>\n",
       "      <td>26</td>\n",
       "    </tr>\n",
       "    <tr>\n",
       "      <th>26</th>\n",
       "      <td>7</td>\n",
       "      <td>27</td>\n",
       "    </tr>\n",
       "  </tbody>\n",
       "</table>\n",
       "</div>"
      ],
      "text/plain": [
       "   fips unemp\n",
       "0     1     1\n",
       "1     2     2\n",
       "2     3     3\n",
       "3     4     4\n",
       "4     5     5\n",
       "5     6     6\n",
       "6     8     7\n",
       "7     9     8\n",
       "8    10     9\n",
       "9    11    10\n",
       "10   12    11\n",
       "11   13    12\n",
       "12   14    13\n",
       "13   15    14\n",
       "14   16    15\n",
       "15   17    16\n",
       "16   18    17\n",
       "17   19    18\n",
       "18   20    19\n",
       "19   21    20\n",
       "20   22    21\n",
       "21   23    22\n",
       "22   24    23\n",
       "23   25    24\n",
       "24   26    25\n",
       "25   27    26\n",
       "26    7    27"
      ]
     },
     "execution_count": 76,
     "metadata": {},
     "output_type": "execute_result"
    }
   ],
   "source": [
    "df"
   ]
  },
  {
   "cell_type": "code",
   "execution_count": null,
   "metadata": {},
   "outputs": [],
   "source": [
    "fig = px.choropleth_mapbox(df, geojson=counties, locations='fips', color='unemp',\n",
    "                           color_continuous_scale=\"Viridis\",\n",
    "                           range_color=(0, 12),\n",
    "                           scope=\"south america\",\n",
    "                           labels={'unemp':'unemployment rate'}\n",
    "                          )\n",
    "fig.update_layout(margin={\"r\":0,\"t\":0,\"l\":0,\"b\":0})\n",
    "fig.show()"
   ]
  }
 ],
 "metadata": {
  "kernelspec": {
   "display_name": "Python 3.9.11 64-bit (system)",
   "language": "python",
   "name": "python3"
  },
  "language_info": {
   "codemirror_mode": {
    "name": "ipython",
    "version": 3
   },
   "file_extension": ".py",
   "mimetype": "text/x-python",
   "name": "python",
   "nbconvert_exporter": "python",
   "pygments_lexer": "ipython3",
   "version": "3.9.11"
  },
  "orig_nbformat": 4,
  "vscode": {
   "interpreter": {
    "hash": "752a47998dec541a1213294a11f345f3e0c443a2e09f1ed460eb0988e5bb69e2"
   }
  }
 },
 "nbformat": 4,
 "nbformat_minor": 2
}
